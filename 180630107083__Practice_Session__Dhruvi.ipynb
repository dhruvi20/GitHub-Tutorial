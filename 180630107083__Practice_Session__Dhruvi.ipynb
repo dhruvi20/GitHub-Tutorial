{
  "nbformat": 4,
  "nbformat_minor": 0,
  "metadata": {
    "colab": {
      "name": "180630107083_ Practice Session_ Dhruvi",
      "provenance": [],
      "collapsed_sections": [],
      "authorship_tag": "ABX9TyNSWTv4H16a+NVyui8ZzhVQ",
      "include_colab_link": true
    },
    "kernelspec": {
      "name": "python3",
      "display_name": "Python 3"
    }
  },
  "cells": [
    {
      "cell_type": "markdown",
      "metadata": {
        "id": "view-in-github",
        "colab_type": "text"
      },
      "source": [
        "<a href=\"https://colab.research.google.com/github/dhruvi20/GitHub-Tutorial/blob/readme-change/180630107083__Practice_Session__Dhruvi.ipynb\" target=\"_parent\"><img src=\"https://colab.research.google.com/assets/colab-badge.svg\" alt=\"Open In Colab\"/></a>"
      ]
    },
    {
      "cell_type": "markdown",
      "metadata": {
        "id": "K0U_lYMbl9tr"
      },
      "source": [
        "Introduction"
      ]
    },
    {
      "cell_type": "code",
      "metadata": {
        "id": "C6l6T8domNdG",
        "outputId": "91997320-3388-4573-ef6b-60d908922e46",
        "colab": {
          "base_uri": "https://localhost:8080/",
          "height": 51
        }
      },
      "source": [
        "#program to display hello\n",
        "enrollment=180630107083\n",
        "print(enrollment)\n",
        "print(\"Hello, Dhruvi Shah\")"
      ],
      "execution_count": null,
      "outputs": [
        {
          "output_type": "stream",
          "text": [
            "180630107083\n",
            "Hello, Dhruvi Shah\n"
          ],
          "name": "stdout"
        }
      ]
    },
    {
      "cell_type": "code",
      "metadata": {
        "id": "o8d44XEvmpV7",
        "outputId": "9b74e007-5047-4414-e70c-efe73228a18f",
        "colab": {
          "base_uri": "https://localhost:8080/",
          "height": 119
        }
      },
      "source": [
        "#Program to add two numbers\n",
        "\n",
        "print(\"Dhruvi Shah 180630107083\")\n",
        "first= input(\"Enter first number: \")\n",
        "print(first)\n",
        "second= input(\"Enter second number: \")\n",
        "print(second)\n",
        "sum= int(first) + int(second)\n",
        "print(\"The sum of two numbers is \" + str(sum))"
      ],
      "execution_count": null,
      "outputs": [
        {
          "output_type": "stream",
          "text": [
            "Dhruvi Shah 180630107083\n",
            "Enter first number: 52\n",
            "52\n",
            "Enter second number: 34\n",
            "34\n",
            "The sum of two numbers is 86\n"
          ],
          "name": "stdout"
        }
      ]
    },
    {
      "cell_type": "code",
      "metadata": {
        "id": "DpgsX7Zkm5hZ",
        "outputId": "2b1ce5a3-ae05-499c-a745-43dd39e7b972",
        "colab": {
          "base_uri": "https://localhost:8080/",
          "height": 119
        }
      },
      "source": [
        "#Program to find area of a triangle\n",
        "print(\"Dhruvi Shah 180630107083\")\n",
        "base= input(\"What is the base of triangle? \")\n",
        "print(base)\n",
        "altitude= input(\"What is the altitude of triangle? \")\n",
        "print(altitude)\n",
        "area=0.5*int(base)*int(altitude)\n",
        "print(\"The area of triangle is \" + str(area))"
      ],
      "execution_count": null,
      "outputs": [
        {
          "output_type": "stream",
          "text": [
            "Dhruvi Shah 180630107083\n",
            "What is the base of triangle? 4\n",
            "4\n",
            "What is the altitude of triangle? 7\n",
            "7\n",
            "The area of triangle is 14.0\n"
          ],
          "name": "stdout"
        }
      ]
    },
    {
      "cell_type": "code",
      "metadata": {
        "id": "P2LDRTOqnHUS",
        "outputId": "55157558-3e93-4fcb-d149-88ef20346d83",
        "colab": {
          "base_uri": "https://localhost:8080/",
          "height": 102
        }
      },
      "source": [
        "#Program to swap two numbers\n",
        "print(\"Dhruvi Shah 180630107083\")\n",
        "first= input(\"Enter first number: \")\n",
        "second= input(\"Enter secnd number: \")\n",
        "print(\"Before swapping first=\" + str(first) + \" and second=\" + str(second))\n",
        "temp=first\n",
        "first=second\n",
        "second=temp\n",
        "print(\"After swapping first=\" + str(first) + \" and second=\" + str(second))"
      ],
      "execution_count": null,
      "outputs": [
        {
          "output_type": "stream",
          "text": [
            "Dhruvi Shah 180630107083\n",
            "Enter first number: 12\n",
            "Enter secnd number: 10\n",
            "Before swapping first=12 and second=10\n",
            "After swapping first=10 and second=12\n"
          ],
          "name": "stdout"
        }
      ]
    },
    {
      "cell_type": "code",
      "metadata": {
        "id": "oMMJ79aNnSwW",
        "outputId": "b6062369-6997-411d-8f4f-757f84567837",
        "colab": {
          "base_uri": "https://localhost:8080/",
          "height": 85
        }
      },
      "source": [
        "#Program to convert kilometers into meters\n",
        "print(\"Dhruvi Shah 180630107083\")\n",
        "kilometers= input(\"Enter the distance in kilometers: \")\n",
        "print(\"The distance is \" + str(kilometers) + \"km\")\n",
        "meters=int(kilometers)*1000\n",
        "print(\"The distance is \" + str(meters) + \"m\")"
      ],
      "execution_count": null,
      "outputs": [
        {
          "output_type": "stream",
          "text": [
            "Dhruvi Shah 180630107083\n",
            "Enter the distance in kilometers: 20\n",
            "The distance is 20km\n",
            "The distance is 20000m\n"
          ],
          "name": "stdout"
        }
      ]
    },
    {
      "cell_type": "code",
      "metadata": {
        "id": "9BYULr-jngdg",
        "outputId": "a395b5c0-1978-40fa-a923-6b5986b294ff",
        "colab": {
          "base_uri": "https://localhost:8080/",
          "height": 85
        }
      },
      "source": [
        "#Program to convert celsius into fahrenheit\n",
        "print(\"Dhruvi Shah 180630107083\")\n",
        "celsius= input(\"Enter the temperature in celsius: \")\n",
        "print(\"The temperature is \" + str(celsius) + \"degree celsius\")\n",
        "fahrenheit=(float(celsius)*1.8)+32\n",
        "print(\"The temperature in fahrenheit is \" + str(fahrenheit))"
      ],
      "execution_count": null,
      "outputs": [
        {
          "output_type": "stream",
          "text": [
            "Dhruvi Shah 180630107083\n",
            "Enter the temperature in celsius: 34\n",
            "The temperature is 34degree celsius\n",
            "The temperature in fahrenheit is 93.2\n"
          ],
          "name": "stdout"
        }
      ]
    },
    {
      "cell_type": "code",
      "metadata": {
        "id": "aYXtKPMgnsS4",
        "outputId": "5faa40e1-ed4e-48ef-e334-3bbbee5cbd27",
        "colab": {
          "base_uri": "https://localhost:8080/",
          "height": 51
        }
      },
      "source": [
        "#Program to generate a random number\n",
        "print(\"Dhruvi Shah 180630107083\")\n",
        "import random\n",
        "print(random.randint(0,7))"
      ],
      "execution_count": null,
      "outputs": [
        {
          "output_type": "stream",
          "text": [
            "Dhruvi Shah 180630107083\n",
            "1\n"
          ],
          "name": "stdout"
        }
      ]
    },
    {
      "cell_type": "code",
      "metadata": {
        "id": "fOXseXZtpawt",
        "outputId": "bddbd5ea-7692-44d3-e2ae-7a524efd83ff",
        "colab": {
          "base_uri": "https://localhost:8080/",
          "height": 119
        }
      },
      "source": [
        "#Program to solve quadratic equation\n",
        "print(\"Dhruvi Shah 180630107083\")\n",
        "a=float(input(\"Enter a: \"))\n",
        "b=float(input(\"Enter b: \"))\n",
        "c=float(input(\"Enter c: \"))\n",
        "d=(b**2)-(4*a*c)\n",
        "sol1=(-b-d)/(2*a)\n",
        "sol2=(-b+d)/(2*a)\n",
        "print(sol1)\n",
        "print(sol2)"
      ],
      "execution_count": 8,
      "outputs": [
        {
          "output_type": "stream",
          "text": [
            "Dhruvi Shah 180630107083\n",
            "Enter a: 8\n",
            "Enter b: 5\n",
            "Enter c: 1\n",
            "0.125\n",
            "-0.75\n"
          ],
          "name": "stdout"
        }
      ]
    }
  ]
}